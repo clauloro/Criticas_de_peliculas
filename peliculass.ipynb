{
 "cells": [
  {
   "attachments": {},
   "cell_type": "markdown",
   "metadata": {},
   "source": [
    "# Análisis de la distribución de opiniones de películas "
   ]
  },
  {
   "attachments": {},
   "cell_type": "markdown",
   "metadata": {},
   "source": [
    "Para conocer mejor la distribución gaussiana, vamos a dejar a un lado las notas obtenidas en el examen y vamos a concentrarnos en las críticas de películas.\n",
    "\n",
    "Estas son las opiniones (calificadas de 0 a 5) obtenidas por una película, donde 5 es la mejor nota que puede obtener la película: las famosas 5 estrellas que podemos encontrar en todos los sitios de críticas de cine."
   ]
  },
  {
   "attachments": {},
   "cell_type": "markdown",
   "metadata": {},
   "source": [
    "Realizaremos los siguientes cálculos:\n",
    "\n",
    "1. Calcular la media.\n",
    "2. Calcular la varianza y desviación típica.\n",
    "3. Calcular el porcentaje de observaciones dentro de una desviación típica de la media.\n",
    "4. Visualizar los datos con matplotlib.pyplot."
   ]
  },
  {
   "cell_type": "code",
   "execution_count": 1,
   "metadata": {},
   "outputs": [],
   "source": [
    "import pandas as pd\n",
    "import numpy as np\n",
    "import matplotlib.pyplot as plt"
   ]
  },
  {
   "cell_type": "code",
   "execution_count": 2,
   "metadata": {},
   "outputs": [],
   "source": [
    "opiniones = [5, 4, 3, 2, 1, 0]\n",
    "votantes = [40, 99, 145, 133, 96, 40]"
   ]
  },
  {
   "cell_type": "code",
   "execution_count": 11,
   "metadata": {},
   "outputs": [
    {
     "name": "stdout",
     "output_type": "stream",
     "text": [
      "   Opiniones  Votantes\n",
      "0          5        40\n",
      "1          4        99\n",
      "2          3       145\n",
      "3          2       133\n",
      "4          1        96\n",
      "5          0        40\n"
     ]
    }
   ],
   "source": [
    "data = pd.DataFrame({'Opiniones': opiniones, 'Votantes': votantes})\n",
    "df = pd.DataFrame(data)\n",
    "print(df)"
   ]
  },
  {
   "cell_type": "code",
   "execution_count": 6,
   "metadata": {},
   "outputs": [],
   "source": [
    "media = np.average(data['Opiniones'], weights=data['Votantes'])"
   ]
  },
  {
   "cell_type": "code",
   "execution_count": 7,
   "metadata": {},
   "outputs": [],
   "source": [
    "varianza = np.average((data['Opiniones'] - media)**2, weights=data['Votantes'])\n",
    "desviacion_tipica = np.sqrt(varianza)"
   ]
  },
  {
   "cell_type": "code",
   "execution_count": 8,
   "metadata": {},
   "outputs": [
    {
     "name": "stdout",
     "output_type": "stream",
     "text": [
      "Media: 2.518987341772152\n",
      "Varianza: 1.8228763705450137\n",
      "Desviación típica: 1.3501393893020874\n"
     ]
    }
   ],
   "source": [
    "print(\"Media:\", media)\n",
    "print(\"Varianza:\", varianza)\n",
    "print(\"Desviación típica:\", desviacion_tipica)"
   ]
  },
  {
   "cell_type": "code",
   "execution_count": 9,
   "metadata": {},
   "outputs": [
    {
     "name": "stdout",
     "output_type": "stream",
     "text": [
      "Porcentaje de observaciones dentro de una desviación típica de la media: 50.27124773960217\n"
     ]
    }
   ],
   "source": [
    "limite_inferior = media - desviacion_tipica\n",
    "limite_superior = media + desviacion_tipica\n",
    "\n",
    "observaciones_en_intervalo = data[(data['Opiniones'] >= limite_inferior) & (data['Opiniones'] <= limite_superior)]['Votantes'].sum()\n",
    "porcentaje_observaciones = (observaciones_en_intervalo / data['Votantes'].sum()) * 100\n",
    "\n",
    "print(\"Porcentaje de observaciones dentro de una desviación típica de la media:\", porcentaje_observaciones)"
   ]
  },
  {
   "cell_type": "code",
   "execution_count": 10,
   "metadata": {},
   "outputs": [
    {
     "data": {
      "image/png": "[encoded data removed]",
      "text/plain": [
       "<Figure size 640x480 with 1 Axes>"
      ]
     },
     "metadata": {},
     "output_type": "display_data"
    }
   ],
   "source": [
    "plt.bar(data['Opiniones'], data['Votantes'])\n",
    "plt.xlabel('Opiniones')\n",
    "plt.ylabel('Cantidad de votantes')\n",
    "plt.title('Distribución de opiniones de películas')\n",
    "plt.show()"
   ]
  }
 ],
 "metadata": {
  "kernelspec": {
   "display_name": "Python 3",
   "language": "python",
   "name": "python3"
  },
  "language_info": {
   "codemirror_mode": {
    "name": "ipython",
    "version": 3
   },
   "file_extension": ".py",
   "mimetype": "text/x-python",
   "name": "python",
   "nbconvert_exporter": "python",
   "pygments_lexer": "ipython3",
   "version": "3.10.11"
  },
  "orig_nbformat": 4
 },
 "nbformat": 4,
 "nbformat_minor": 2
}
